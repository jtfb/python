{
 "cells": [
  {
   "cell_type": "markdown",
   "metadata": {},
   "source": [
    "# Pandas\n",
    "## Practice Problems"
   ]
  },
  {
   "cell_type": "markdown",
   "metadata": {},
   "source": [
    "### 1. Start by loading the `subway_stations.csv` to a DataFrame, and then:\n",
    "\n",
    "1.   Check the first 5 rows of subway_stations.\n",
    "2.   Check subway_stations column data types and shape.\n",
    "3.   How many unique values are in the station column?\n",
    "4.   merge() the subway station data into delays_w_reasons. Make sure that all delay records are kept, even if there is no matching station name in subway_stations. The resulting DataFrame should have 16,370 rows."
   ]
  },
  {
   "cell_type": "code",
   "execution_count": 54,
   "metadata": {},
   "outputs": [
    {
     "data": {
      "text/html": [
       "<div>\n",
       "<style scoped>\n",
       "    .dataframe tbody tr th:only-of-type {\n",
       "        vertical-align: middle;\n",
       "    }\n",
       "\n",
       "    .dataframe tbody tr th {\n",
       "        vertical-align: top;\n",
       "    }\n",
       "\n",
       "    .dataframe thead th {\n",
       "        text-align: right;\n",
       "    }\n",
       "</style>\n",
       "<table border=\"1\" class=\"dataframe\">\n",
       "  <thead>\n",
       "    <tr style=\"text-align: right;\">\n",
       "      <th></th>\n",
       "      <th>stop_lat</th>\n",
       "      <th>stop_lon</th>\n",
       "      <th>station</th>\n",
       "    </tr>\n",
       "  </thead>\n",
       "  <tbody>\n",
       "    <tr>\n",
       "      <th>0</th>\n",
       "      <td>43.666061</td>\n",
       "      <td>-79.411065</td>\n",
       "      <td>BATHURST STATION</td>\n",
       "    </tr>\n",
       "    <tr>\n",
       "      <th>1</th>\n",
       "      <td>43.670149</td>\n",
       "      <td>-79.390089</td>\n",
       "      <td>BAY STATION</td>\n",
       "    </tr>\n",
       "    <tr>\n",
       "      <th>2</th>\n",
       "      <td>43.766872</td>\n",
       "      <td>-79.386703</td>\n",
       "      <td>BAYVIEW STATION</td>\n",
       "    </tr>\n",
       "    <tr>\n",
       "      <th>3</th>\n",
       "      <td>43.769202</td>\n",
       "      <td>-79.376312</td>\n",
       "      <td>BESSARION STATION</td>\n",
       "    </tr>\n",
       "    <tr>\n",
       "      <th>4</th>\n",
       "      <td>43.670049</td>\n",
       "      <td>-79.385389</td>\n",
       "      <td>BLOOR STATION</td>\n",
       "    </tr>\n",
       "  </tbody>\n",
       "</table>\n",
       "</div>"
      ],
      "text/plain": [
       "    stop_lat   stop_lon            station\n",
       "0  43.666061 -79.411065   BATHURST STATION\n",
       "1  43.670149 -79.390089        BAY STATION\n",
       "2  43.766872 -79.386703    BAYVIEW STATION\n",
       "3  43.769202 -79.376312  BESSARION STATION\n",
       "4  43.670049 -79.385389      BLOOR STATION"
      ]
     },
     "execution_count": 54,
     "metadata": {},
     "output_type": "execute_result"
    }
   ],
   "source": [
    "import pandas as pd\n",
    "\n",
    "#Display all columns\n",
    "pd.set_option(\"display.max_columns\", None)\n",
    "\n",
    "# Read first 5 rows of the file\n",
    "subway_stations = pd.read_csv('../../05_src/data/slides_data/subway_stations.csv')\n",
    "\n",
    "# loaded data into a DataFrame\n",
    "subway_stations.head()\n"
   ]
  },
  {
   "cell_type": "markdown",
   "metadata": {},
   "source": [
    "<details>\n",
    "  <summary>Answer</summary>\n",
    "\n",
    "  ```python\n",
    "  import numpy as np\n",
    "  import pandas as pd\n",
    "\n",
    "  subway = pd.read_csv('/content/data/subway_stations.csv') #change path\n",
    "  subway.head()\n",
    "  ```\n",
    "</details>"
   ]
  },
  {
   "cell_type": "markdown",
   "metadata": {},
   "source": [
    "2.   Check subway_stations column data types and shape.\n"
   ]
  },
  {
   "cell_type": "code",
   "execution_count": 32,
   "metadata": {},
   "outputs": [
    {
     "data": {
      "text/plain": [
       "<bound method DataFrame.info of      stop_lat   stop_lon             station\n",
       "0   43.666061 -79.411065    BATHURST STATION\n",
       "1   43.670149 -79.390089         BAY STATION\n",
       "2   43.766872 -79.386703     BAYVIEW STATION\n",
       "3   43.769202 -79.376312   BESSARION STATION\n",
       "4   43.670049 -79.385389       BLOOR STATION\n",
       "..        ...        ...                 ...\n",
       "72  43.734475 -79.450920      WILSON STATION\n",
       "73  43.686440 -79.312471    WOODBINE STATION\n",
       "74  43.670997 -79.385956       YONGE STATION\n",
       "75  43.745172 -79.405930  YORK MILLS STATION\n",
       "76  43.725248 -79.447692    YORKDALE STATION\n",
       "\n",
       "[77 rows x 3 columns]>"
      ]
     },
     "execution_count": 32,
     "metadata": {},
     "output_type": "execute_result"
    }
   ],
   "source": [
    "#Check column data types and shape\n",
    "type(subway_stations)\n",
    "\n",
    "# subway_stations = subway_stations.rename(columns={'station' : 'Tiago'})\n",
    "# subway_stations.head()\n",
    "subway_stations.info"
   ]
  },
  {
   "cell_type": "markdown",
   "metadata": {},
   "source": [
    "<details>\n",
    "  <summary>Answer</summary>\n",
    "\n",
    "  ```python\n",
    "  subway.info()\n",
    "  ```\n",
    "</details>"
   ]
  },
  {
   "cell_type": "markdown",
   "metadata": {},
   "source": [
    "3.   How many unique values are in the station column?\n"
   ]
  },
  {
   "cell_type": "code",
   "execution_count": 31,
   "metadata": {},
   "outputs": [
    {
     "data": {
      "text/plain": [
       "77"
      ]
     },
     "execution_count": 31,
     "metadata": {},
     "output_type": "execute_result"
    }
   ],
   "source": [
    "len(subway_stations['station'].unique())"
   ]
  },
  {
   "cell_type": "markdown",
   "metadata": {},
   "source": [
    "<details>\n",
    "  <summary>Answer</summary>\n",
    "\n",
    "  ```python\n",
    "  len(subway['station'].unique())\n",
    "  ```\n",
    "</details>"
   ]
  },
  {
   "cell_type": "markdown",
   "metadata": {},
   "source": [
    "4.   merge() the subway station data into delays_w_reasons. Make sure that all delay records are kept, even if there is no matching station name in subway_stations. The resulting DataFrame should have 16,370 rows."
   ]
  },
  {
   "cell_type": "code",
   "execution_count": 62,
   "metadata": {},
   "outputs": [
    {
     "data": {
      "text/html": [
       "<div>\n",
       "<style scoped>\n",
       "    .dataframe tbody tr th:only-of-type {\n",
       "        vertical-align: middle;\n",
       "    }\n",
       "\n",
       "    .dataframe tbody tr th {\n",
       "        vertical-align: top;\n",
       "    }\n",
       "\n",
       "    .dataframe thead th {\n",
       "        text-align: right;\n",
       "    }\n",
       "</style>\n",
       "<table border=\"1\" class=\"dataframe\">\n",
       "  <thead>\n",
       "    <tr style=\"text-align: right;\">\n",
       "      <th></th>\n",
       "      <th>date</th>\n",
       "      <th>time</th>\n",
       "      <th>day</th>\n",
       "      <th>station</th>\n",
       "      <th>code</th>\n",
       "      <th>min_delay</th>\n",
       "      <th>min_gap</th>\n",
       "      <th>bound</th>\n",
       "      <th>line</th>\n",
       "      <th>vehicle</th>\n",
       "      <th>code_description</th>\n",
       "      <th>sub_or_srt</th>\n",
       "      <th>year</th>\n",
       "      <th>hour_delay</th>\n",
       "      <th>month</th>\n",
       "      <th>hour</th>\n",
       "      <th>stop_lat</th>\n",
       "      <th>stop_lon</th>\n",
       "    </tr>\n",
       "  </thead>\n",
       "  <tbody>\n",
       "    <tr>\n",
       "      <th>0</th>\n",
       "      <td>2021-01-01</td>\n",
       "      <td>00:33</td>\n",
       "      <td>Friday</td>\n",
       "      <td>BLOOR STATION</td>\n",
       "      <td>MUPAA</td>\n",
       "      <td>0</td>\n",
       "      <td>0</td>\n",
       "      <td>N</td>\n",
       "      <td>YU</td>\n",
       "      <td>6046</td>\n",
       "      <td>Passenger Assistance Alarm Activated - No Trou...</td>\n",
       "      <td>SUB</td>\n",
       "      <td>2021</td>\n",
       "      <td>0.00</td>\n",
       "      <td>1</td>\n",
       "      <td>0</td>\n",
       "      <td>43.670049</td>\n",
       "      <td>-79.385389</td>\n",
       "    </tr>\n",
       "    <tr>\n",
       "      <th>1</th>\n",
       "      <td>2021-01-01</td>\n",
       "      <td>00:39</td>\n",
       "      <td>Friday</td>\n",
       "      <td>SHERBOURNE STATION</td>\n",
       "      <td>EUCO</td>\n",
       "      <td>5</td>\n",
       "      <td>9</td>\n",
       "      <td>E</td>\n",
       "      <td>BD</td>\n",
       "      <td>5250</td>\n",
       "      <td>Couplers</td>\n",
       "      <td>SUB</td>\n",
       "      <td>2021</td>\n",
       "      <td>0.08</td>\n",
       "      <td>1</td>\n",
       "      <td>0</td>\n",
       "      <td>43.672103</td>\n",
       "      <td>-79.376162</td>\n",
       "    </tr>\n",
       "    <tr>\n",
       "      <th>2</th>\n",
       "      <td>2021-01-01</td>\n",
       "      <td>01:07</td>\n",
       "      <td>Friday</td>\n",
       "      <td>KENNEDY BD STATION</td>\n",
       "      <td>EUCD</td>\n",
       "      <td>5</td>\n",
       "      <td>9</td>\n",
       "      <td>E</td>\n",
       "      <td>BD</td>\n",
       "      <td>5249</td>\n",
       "      <td>Consequential Delay (2nd Delay Same Fault)</td>\n",
       "      <td>SUB</td>\n",
       "      <td>2021</td>\n",
       "      <td>0.08</td>\n",
       "      <td>1</td>\n",
       "      <td>1</td>\n",
       "      <td>NaN</td>\n",
       "      <td>NaN</td>\n",
       "    </tr>\n",
       "    <tr>\n",
       "      <th>3</th>\n",
       "      <td>2021-01-01</td>\n",
       "      <td>01:41</td>\n",
       "      <td>Friday</td>\n",
       "      <td>ST CLAIR STATION</td>\n",
       "      <td>MUIS</td>\n",
       "      <td>0</td>\n",
       "      <td>0</td>\n",
       "      <td>NaN</td>\n",
       "      <td>YU</td>\n",
       "      <td>0</td>\n",
       "      <td>Injured or ill Customer (In Station) - Transpo...</td>\n",
       "      <td>SUB</td>\n",
       "      <td>2021</td>\n",
       "      <td>0.00</td>\n",
       "      <td>1</td>\n",
       "      <td>1</td>\n",
       "      <td>43.687857</td>\n",
       "      <td>-79.391958</td>\n",
       "    </tr>\n",
       "    <tr>\n",
       "      <th>4</th>\n",
       "      <td>2021-01-01</td>\n",
       "      <td>02:04</td>\n",
       "      <td>Friday</td>\n",
       "      <td>SHEPPARD WEST STATION</td>\n",
       "      <td>MUIS</td>\n",
       "      <td>0</td>\n",
       "      <td>0</td>\n",
       "      <td>NaN</td>\n",
       "      <td>YU</td>\n",
       "      <td>0</td>\n",
       "      <td>Injured or ill Customer (In Station) - Transpo...</td>\n",
       "      <td>SUB</td>\n",
       "      <td>2021</td>\n",
       "      <td>0.00</td>\n",
       "      <td>1</td>\n",
       "      <td>2</td>\n",
       "      <td>43.749571</td>\n",
       "      <td>-79.462186</td>\n",
       "    </tr>\n",
       "  </tbody>\n",
       "</table>\n",
       "</div>"
      ],
      "text/plain": [
       "        date   time     day                station   code  min_delay  min_gap  \\\n",
       "0 2021-01-01  00:33  Friday          BLOOR STATION  MUPAA          0        0   \n",
       "1 2021-01-01  00:39  Friday     SHERBOURNE STATION   EUCO          5        9   \n",
       "2 2021-01-01  01:07  Friday     KENNEDY BD STATION   EUCD          5        9   \n",
       "3 2021-01-01  01:41  Friday       ST CLAIR STATION   MUIS          0        0   \n",
       "4 2021-01-01  02:04  Friday  SHEPPARD WEST STATION   MUIS          0        0   \n",
       "\n",
       "  bound line  vehicle                                   code_description  \\\n",
       "0     N   YU     6046  Passenger Assistance Alarm Activated - No Trou...   \n",
       "1     E   BD     5250                                           Couplers   \n",
       "2     E   BD     5249         Consequential Delay (2nd Delay Same Fault)   \n",
       "3   NaN   YU        0  Injured or ill Customer (In Station) - Transpo...   \n",
       "4   NaN   YU        0  Injured or ill Customer (In Station) - Transpo...   \n",
       "\n",
       "  sub_or_srt  year  hour_delay  month  hour   stop_lat   stop_lon  \n",
       "0        SUB  2021        0.00      1     0  43.670049 -79.385389  \n",
       "1        SUB  2021        0.08      1     0  43.672103 -79.376162  \n",
       "2        SUB  2021        0.08      1     1        NaN        NaN  \n",
       "3        SUB  2021        0.00      1     1  43.687857 -79.391958  \n",
       "4        SUB  2021        0.00      1     2  43.749571 -79.462186  "
      ]
     },
     "execution_count": 62,
     "metadata": {},
     "output_type": "execute_result"
    }
   ],
   "source": [
    "delay_w_reasons = pd.read_excel('../../05_src/data/slides_data/ttc_subway_delays_w_reasons.xlsx')\n",
    "# delay_w_reasons.head()\n",
    "\n",
    "merged = pd.merge(delay_w_reasons,\n",
    "                  subway_stations,\n",
    "                  how='left',\n",
    "                  left_on='station',\n",
    "                  right_on='station')\n",
    "\n",
    "merged.head()"
   ]
  },
  {
   "cell_type": "markdown",
   "metadata": {},
   "source": [
    "<details>\n",
    "  <summary>Answer</summary>\n",
    "\n",
    "  ```python\n",
    "  delay_w_reasons = pd.read_excel('/content/data/delays_w_reasons.xlsx') #change path\n",
    "merged = pd.merge(delay_w_reasons, \n",
    "                            subway, \n",
    "                            how='left',\n",
    "                            left_on='station', \n",
    "                            right_on='station')\n",
    "merged.head()\n",
    "  ```\n",
    "</details>\n",
    "\n"
   ]
  }
 ],
 "metadata": {
  "kernelspec": {
   "display_name": "dsi_participant",
   "language": "python",
   "name": "python3"
  },
  "language_info": {
   "codemirror_mode": {
    "name": "ipython",
    "version": 3
   },
   "file_extension": ".py",
   "mimetype": "text/x-python",
   "name": "python",
   "nbconvert_exporter": "python",
   "pygments_lexer": "ipython3",
   "version": "3.9.15"
  }
 },
 "nbformat": 4,
 "nbformat_minor": 2
}
